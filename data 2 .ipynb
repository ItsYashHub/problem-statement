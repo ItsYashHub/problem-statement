{
 "cells": [
  {
   "cell_type": "code",
   "execution_count": 5,
   "id": "325c3db4-3b24-4628-8a28-b049d729a3fe",
   "metadata": {},
   "outputs": [
    {
     "name": "stdout",
     "output_type": "stream",
     "text": [
      "Hello, World!\n"
     ]
    }
   ],
   "source": [
    "print(\"Hello, World!\")\n",
    "\n"
   ]
  },
  {
   "cell_type": "code",
   "execution_count": 7,
   "id": "75589637-93c0-4230-9425-542c33cbbd46",
   "metadata": {},
   "outputs": [],
   "source": [
    "city=\"jalgaon\"\n"
   ]
  },
  {
   "cell_type": "code",
   "execution_count": 11,
   "id": "41d8ff76-dcde-4d97-8934-c56a9581a767",
   "metadata": {},
   "outputs": [],
   "source": [
    "yash=\"hello yash\""
   ]
  },
  {
   "cell_type": "code",
   "execution_count": 13,
   "id": "3f11cbe0-d226-4c0a-8474-b6a910ec1432",
   "metadata": {},
   "outputs": [],
   "source": [
    "rollnumber=\"66\""
   ]
  },
  {
   "cell_type": "code",
   "execution_count": 15,
   "id": "3709c4ba-dba8-4dcb-8d9d-bc15cd011bb5",
   "metadata": {},
   "outputs": [
    {
     "ename": "SyntaxError",
     "evalue": "invalid syntax (2760129794.py, line 1)",
     "output_type": "error",
     "traceback": [
      "\u001b[1;36m  Cell \u001b[1;32mIn[15], line 1\u001b[1;36m\u001b[0m\n\u001b[1;33m    is\" yash \"\u001b[0m\n\u001b[1;37m    ^\u001b[0m\n\u001b[1;31mSyntaxError\u001b[0m\u001b[1;31m:\u001b[0m invalid syntax\n"
     ]
    }
   ],
   "source": [
    "is\" yash \""
   ]
  },
  {
   "cell_type": "code",
   "execution_count": 17,
   "id": "22ce082a-a8e8-4b13-90f9-8cd9f056287b",
   "metadata": {},
   "outputs": [
    {
     "ename": "SyntaxError",
     "evalue": "invalid syntax (766355756.py, line 1)",
     "output_type": "error",
     "traceback": [
      "\u001b[1;36m  Cell \u001b[1;32mIn[17], line 1\u001b[1;36m\u001b[0m\n\u001b[1;33m    is\"goa is good to free\"\u001b[0m\n\u001b[1;37m    ^\u001b[0m\n\u001b[1;31mSyntaxError\u001b[0m\u001b[1;31m:\u001b[0m invalid syntax\n"
     ]
    }
   ],
   "source": [
    "city=\"goa is good to free\""
   ]
  },
  {
   "cell_type": "code",
   "execution_count": 19,
   "id": "fde57db8-700f-4bdb-99fd-4d27feceaea7",
   "metadata": {},
   "outputs": [],
   "source": [
    "city=\"goa is good to free\"\n"
   ]
  },
  {
   "cell_type": "code",
   "execution_count": 21,
   "id": "ac814e10-5f35-4c63-9a8f-f7226c1f9200",
   "metadata": {},
   "outputs": [],
   "source": [
    "roll_number=\"66\"\n"
   ]
  },
  {
   "cell_type": "code",
   "execution_count": 23,
   "id": "5f18c98d-4f76-437c-950d-53236f92630b",
   "metadata": {},
   "outputs": [
    {
     "ename": "SyntaxError",
     "evalue": "unterminated string literal (detected at line 1) (4023929253.py, line 1)",
     "output_type": "error",
     "traceback": [
      "\u001b[1;36m  Cell \u001b[1;32mIn[23], line 1\u001b[1;36m\u001b[0m\n\u001b[1;33m    sum=\"77\u001b[0m\n\u001b[1;37m        ^\u001b[0m\n\u001b[1;31mSyntaxError\u001b[0m\u001b[1;31m:\u001b[0m unterminated string literal (detected at line 1)\n"
     ]
    }
   ],
   "source": [
    "sum=\"77"
   ]
  },
  {
   "cell_type": "code",
   "execution_count": 25,
   "id": "ff90dde4-2e41-4701-83b4-0df7f7405283",
   "metadata": {},
   "outputs": [
    {
     "ename": "SyntaxError",
     "evalue": "invalid syntax (1444660892.py, line 1)",
     "output_type": "error",
     "traceback": [
      "\u001b[1;36m  Cell \u001b[1;32mIn[25], line 1\u001b[1;36m\u001b[0m\n\u001b[1;33m    num5\"77\"\u001b[0m\n\u001b[1;37m        ^\u001b[0m\n\u001b[1;31mSyntaxError\u001b[0m\u001b[1;31m:\u001b[0m invalid syntax\n"
     ]
    }
   ],
   "source": [
    "num5\"77\"\n"
   ]
  },
  {
   "cell_type": "code",
   "execution_count": 27,
   "id": "fc87ce16-d5f2-401a-a643-edd2b4c03741",
   "metadata": {},
   "outputs": [],
   "source": [
    "ray=\"good is good in reading \"\n"
   ]
  },
  {
   "cell_type": "code",
   "execution_count": 29,
   "id": "6f4b330a-e80e-40e9-b922-e8371f21a8e4",
   "metadata": {},
   "outputs": [
    {
     "ename": "SyntaxError",
     "evalue": "cannot assign to literal here. Maybe you meant '==' instead of '='? (4220625214.py, line 1)",
     "output_type": "error",
     "traceback": [
      "\u001b[1;36m  Cell \u001b[1;32mIn[29], line 1\u001b[1;36m\u001b[0m\n\u001b[1;33m    \"apple\"=print\u001b[0m\n\u001b[1;37m    ^\u001b[0m\n\u001b[1;31mSyntaxError\u001b[0m\u001b[1;31m:\u001b[0m cannot assign to literal here. Maybe you meant '==' instead of '='?\n"
     ]
    }
   ],
   "source": [
    "\"apple\"=print"
   ]
  },
  {
   "cell_type": "code",
   "execution_count": 31,
   "id": "a65377b6-dcd4-4114-958f-de3e4e2d1029",
   "metadata": {},
   "outputs": [],
   "source": [
    "print=\"mango\"\n"
   ]
  },
  {
   "cell_type": "code",
   "execution_count": 33,
   "id": "452459ae-cc92-426a-9f90-6a15a84aae4e",
   "metadata": {},
   "outputs": [
    {
     "ename": "NameError",
     "evalue": "name 'rraj' is not defined",
     "output_type": "error",
     "traceback": [
      "\u001b[1;31m---------------------------------------------------------------------------\u001b[0m",
      "\u001b[1;31mNameError\u001b[0m                                 Traceback (most recent call last)",
      "Cell \u001b[1;32mIn[33], line 1\u001b[0m\n\u001b[1;32m----> 1\u001b[0m yash\u001b[38;5;241m&\u001b[39mrraj\n",
      "\u001b[1;31mNameError\u001b[0m: name 'rraj' is not defined"
     ]
    }
   ],
   "source": [
    "yash&rraj"
   ]
  },
  {
   "cell_type": "code",
   "execution_count": 35,
   "id": "ed2f5c47-1d97-4c1f-9cf5-825c42dbf8a6",
   "metadata": {},
   "outputs": [
    {
     "ename": "NameError",
     "evalue": "name 'a' is not defined",
     "output_type": "error",
     "traceback": [
      "\u001b[1;31m---------------------------------------------------------------------------\u001b[0m",
      "\u001b[1;31mNameError\u001b[0m                                 Traceback (most recent call last)",
      "Cell \u001b[1;32mIn[35], line 1\u001b[0m\n\u001b[1;32m----> 1\u001b[0m \u001b[38;5;28mtype\u001b[39m(a)\n",
      "\u001b[1;31mNameError\u001b[0m: name 'a' is not defined"
     ]
    }
   ],
   "source": [
    "type(a)\n"
   ]
  },
  {
   "cell_type": "code",
   "execution_count": 37,
   "id": "e5625b63-df13-4f63-9503-3b5f13adab02",
   "metadata": {},
   "outputs": [
    {
     "ename": "NameError",
     "evalue": "name 'name' is not defined",
     "output_type": "error",
     "traceback": [
      "\u001b[1;31m---------------------------------------------------------------------------\u001b[0m",
      "\u001b[1;31mNameError\u001b[0m                                 Traceback (most recent call last)",
      "Cell \u001b[1;32mIn[37], line 1\u001b[0m\n\u001b[1;32m----> 1\u001b[0m \u001b[38;5;28mtype\u001b[39m(name)\n",
      "\u001b[1;31mNameError\u001b[0m: name 'name' is not defined"
     ]
    }
   ],
   "source": [
    "type(name)"
   ]
  },
  {
   "cell_type": "code",
   "execution_count": 39,
   "id": "33c160e4-95c7-4da2-b163-ae7fc75f3899",
   "metadata": {},
   "outputs": [
    {
     "data": {
      "text/plain": [
       "str"
      ]
     },
     "execution_count": 39,
     "metadata": {},
     "output_type": "execute_result"
    }
   ],
   "source": [
    "type(city)"
   ]
  },
  {
   "cell_type": "code",
   "execution_count": 41,
   "id": "88f60bb1-cdda-494b-972b-fd6732779070",
   "metadata": {},
   "outputs": [
    {
     "ename": "NameError",
     "evalue": "name 'x' is not defined",
     "output_type": "error",
     "traceback": [
      "\u001b[1;31m---------------------------------------------------------------------------\u001b[0m",
      "\u001b[1;31mNameError\u001b[0m                                 Traceback (most recent call last)",
      "Cell \u001b[1;32mIn[41], line 1\u001b[0m\n\u001b[1;32m----> 1\u001b[0m \u001b[38;5;28mtype\u001b[39m(x)\n",
      "\u001b[1;31mNameError\u001b[0m: name 'x' is not defined"
     ]
    }
   ],
   "source": [
    "type(x)"
   ]
  },
  {
   "cell_type": "code",
   "execution_count": 43,
   "id": "687870ae-fee6-4c9a-9afe-3393e38c24e6",
   "metadata": {},
   "outputs": [
    {
     "ename": "NameError",
     "evalue": "name 'x' is not defined",
     "output_type": "error",
     "traceback": [
      "\u001b[1;31m---------------------------------------------------------------------------\u001b[0m",
      "\u001b[1;31mNameError\u001b[0m                                 Traceback (most recent call last)",
      "Cell \u001b[1;32mIn[43], line 1\u001b[0m\n\u001b[1;32m----> 1\u001b[0m \u001b[38;5;28mtype\u001b[39m(x)\n",
      "\u001b[1;31mNameError\u001b[0m: name 'x' is not defined"
     ]
    }
   ],
   "source": [
    "type(x)\n"
   ]
  },
  {
   "cell_type": "code",
   "execution_count": 45,
   "id": "1c732305-342d-4109-9bda-12640225a294",
   "metadata": {},
   "outputs": [],
   "source": [
    "x=\"yash\""
   ]
  },
  {
   "cell_type": "code",
   "execution_count": 47,
   "id": "18e30e21-6019-4b5e-ba4f-0ba42b85b459",
   "metadata": {},
   "outputs": [
    {
     "data": {
      "text/plain": [
       "str"
      ]
     },
     "execution_count": 47,
     "metadata": {},
     "output_type": "execute_result"
    }
   ],
   "source": [
    "type(x)"
   ]
  },
  {
   "cell_type": "code",
   "execution_count": 49,
   "id": "338a76b8-b71a-4f04-a461-463cd091925c",
   "metadata": {},
   "outputs": [],
   "source": [
    "yash=\"yash\"\n"
   ]
  },
  {
   "cell_type": "code",
   "execution_count": 51,
   "id": "3662e16b-ea8f-4447-9b6c-74b706520c15",
   "metadata": {},
   "outputs": [
    {
     "data": {
      "text/plain": [
       "str"
      ]
     },
     "execution_count": 51,
     "metadata": {},
     "output_type": "execute_result"
    }
   ],
   "source": [
    "type(yash)"
   ]
  },
  {
   "cell_type": "code",
   "execution_count": 53,
   "id": "618d6417-de47-4e1e-8f13-bd14f11cb5e1",
   "metadata": {},
   "outputs": [
    {
     "data": {
      "text/plain": [
       "'yash'"
      ]
     },
     "execution_count": 53,
     "metadata": {},
     "output_type": "execute_result"
    }
   ],
   "source": [
    "yash"
   ]
  },
  {
   "cell_type": "code",
   "execution_count": 55,
   "id": "57b4029a-a330-49db-9e08-35999e2ba1d5",
   "metadata": {},
   "outputs": [],
   "source": [
    "raj=yash\n"
   ]
  },
  {
   "cell_type": "code",
   "execution_count": 57,
   "id": "472c4804-3bdf-43d9-adb7-9696bc3166ae",
   "metadata": {},
   "outputs": [
    {
     "data": {
      "text/plain": [
       "str"
      ]
     },
     "execution_count": 57,
     "metadata": {},
     "output_type": "execute_result"
    }
   ],
   "source": [
    "type(raj)\n"
   ]
  },
  {
   "cell_type": "code",
   "execution_count": null,
   "id": "ddb53072-927b-4f03-907f-fc54111cbee2",
   "metadata": {},
   "outputs": [],
   "source": []
  },
  {
   "cell_type": "code",
   "execution_count": 60,
   "id": "8da166ef-7387-498a-b56c-db8878e1063c",
   "metadata": {},
   "outputs": [
    {
     "data": {
      "text/plain": [
       "'yash'"
      ]
     },
     "execution_count": 60,
     "metadata": {},
     "output_type": "execute_result"
    }
   ],
   "source": [
    "raj"
   ]
  },
  {
   "cell_type": "code",
   "execution_count": 62,
   "id": "1c255bef-f497-47e6-811f-c2147284c763",
   "metadata": {},
   "outputs": [
    {
     "ename": "NameError",
     "evalue": "name '_per' is not defined",
     "output_type": "error",
     "traceback": [
      "\u001b[1;31m---------------------------------------------------------------------------\u001b[0m",
      "\u001b[1;31mNameError\u001b[0m                                 Traceback (most recent call last)",
      "Cell \u001b[1;32mIn[62], line 1\u001b[0m\n\u001b[1;32m----> 1\u001b[0m \u001b[38;5;28mtype\u001b[39m(_per)\n",
      "\u001b[1;31mNameError\u001b[0m: name '_per' is not defined"
     ]
    }
   ],
   "source": [
    "type(_per)"
   ]
  },
  {
   "cell_type": "code",
   "execution_count": 64,
   "id": "e125e877-9353-491c-a014-4648aeeee7a5",
   "metadata": {},
   "outputs": [
    {
     "ename": "NameError",
     "evalue": "name '_perc' is not defined",
     "output_type": "error",
     "traceback": [
      "\u001b[1;31m---------------------------------------------------------------------------\u001b[0m",
      "\u001b[1;31mNameError\u001b[0m                                 Traceback (most recent call last)",
      "Cell \u001b[1;32mIn[64], line 1\u001b[0m\n\u001b[1;32m----> 1\u001b[0m \u001b[38;5;28mtype\u001b[39m(_perc)\n",
      "\u001b[1;31mNameError\u001b[0m: name '_perc' is not defined"
     ]
    }
   ],
   "source": [
    "type(_perc)"
   ]
  },
  {
   "cell_type": "code",
   "execution_count": 66,
   "id": "20a746a7-aa29-42df-b83f-df870c3aff28",
   "metadata": {},
   "outputs": [
    {
     "ename": "NameError",
     "evalue": "name '_perc' is not defined",
     "output_type": "error",
     "traceback": [
      "\u001b[1;31m---------------------------------------------------------------------------\u001b[0m",
      "\u001b[1;31mNameError\u001b[0m                                 Traceback (most recent call last)",
      "Cell \u001b[1;32mIn[66], line 1\u001b[0m\n\u001b[1;32m----> 1\u001b[0m _perc\n",
      "\u001b[1;31mNameError\u001b[0m: name '_perc' is not defined"
     ]
    }
   ],
   "source": [
    "_perc"
   ]
  },
  {
   "cell_type": "code",
   "execution_count": 68,
   "id": "5573c3fa-f104-4c29-a3c4-181ce5fe92eb",
   "metadata": {},
   "outputs": [],
   "source": [
    "_perc=\"85\"\n"
   ]
  },
  {
   "cell_type": "code",
   "execution_count": 70,
   "id": "9a07b30f-e1ef-44e6-9e3e-a2a00f8871c1",
   "metadata": {},
   "outputs": [
    {
     "data": {
      "text/plain": [
       "str"
      ]
     },
     "execution_count": 70,
     "metadata": {},
     "output_type": "execute_result"
    }
   ],
   "source": [
    "type(_perc)"
   ]
  },
  {
   "cell_type": "code",
   "execution_count": 72,
   "id": "232e0b59-d927-41e6-bc4b-82dacffb82bf",
   "metadata": {},
   "outputs": [
    {
     "data": {
      "text/plain": [
       "'yash'"
      ]
     },
     "execution_count": 72,
     "metadata": {},
     "output_type": "execute_result"
    }
   ],
   "source": [
    "yash"
   ]
  },
  {
   "cell_type": "code",
   "execution_count": 74,
   "id": "865031e5-e813-4b62-b91f-5256199448d1",
   "metadata": {},
   "outputs": [
    {
     "ename": "NameError",
     "evalue": "name '_prec' is not defined",
     "output_type": "error",
     "traceback": [
      "\u001b[1;31m---------------------------------------------------------------------------\u001b[0m",
      "\u001b[1;31mNameError\u001b[0m                                 Traceback (most recent call last)",
      "Cell \u001b[1;32mIn[74], line 1\u001b[0m\n\u001b[1;32m----> 1\u001b[0m _prec\n",
      "\u001b[1;31mNameError\u001b[0m: name '_prec' is not defined"
     ]
    }
   ],
   "source": [
    "_prec"
   ]
  },
  {
   "cell_type": "code",
   "execution_count": 1,
   "id": "6f5bc981-986f-433f-8fc8-a6ba8eafe516",
   "metadata": {},
   "outputs": [
    {
     "ename": "SyntaxError",
     "evalue": "invalid syntax. Perhaps you forgot a comma? (799258846.py, line 1)",
     "output_type": "error",
     "traceback": [
      "\u001b[1;36m  Cell \u001b[1;32mIn[1], line 1\u001b[1;36m\u001b[0m\n\u001b[1;33m    n1=int(input(\"enter the number 1\")\u001b[0m\n\u001b[1;37m           ^\u001b[0m\n\u001b[1;31mSyntaxError\u001b[0m\u001b[1;31m:\u001b[0m invalid syntax. Perhaps you forgot a comma?\n"
     ]
    }
   ],
   "source": [
    "n1=int(input(\"enter the number 1\"))\n",
    "n2=int(input(\"enter the number 2\"))\n",
    "res=n1-n2 \n",
    "print(\"subtarction of two numnber: \",res)\n"
   ]
  },
  {
   "cell_type": "code",
   "execution_count": 3,
   "id": "71b2963f-7a36-4e4b-8f82-40253c901741",
   "metadata": {},
   "outputs": [
    {
     "name": "stdin",
     "output_type": "stream",
     "text": [
      "enter the number 1 67\n",
      "enter the number 2 30\n"
     ]
    },
    {
     "name": "stdout",
     "output_type": "stream",
     "text": [
      "subtarction of two numnber:  37\n"
     ]
    }
   ],
   "source": [
    "n1=int(input(\"enter the number 1\"))\n",
    "n2=int(input(\"enter the number 2\"))\n",
    "res=n1-n2 \n",
    "print(\"subtarction of two numnber: \",res)\n"
   ]
  },
  {
   "cell_type": "code",
   "execution_count": 5,
   "id": "2ae8b5c0-5a8a-454d-ae52-1ee3e7bb1404",
   "metadata": {},
   "outputs": [
    {
     "name": "stdin",
     "output_type": "stream",
     "text": [
      "enter the number 1 45\n",
      "enter the number 2 55\n"
     ]
    },
    {
     "name": "stdout",
     "output_type": "stream",
     "text": [
      "add of two numnber:  100\n"
     ]
    }
   ],
   "source": [
    "n1=int(input(\"enter the number 1\"))\n",
    "n2=int(input(\"enter the number 2\"))\n",
    "res=n1+n2 \n",
    "print(\"add of two numnber: \",res)\n"
   ]
  },
  {
   "cell_type": "code",
   "execution_count": 7,
   "id": "4d0b9a7c-f0eb-430b-aaf5-715e62531b32",
   "metadata": {},
   "outputs": [
    {
     "name": "stdin",
     "output_type": "stream",
     "text": [
      "enter the number 1 23\n",
      "enter the number 2 34\n"
     ]
    },
    {
     "name": "stdout",
     "output_type": "stream",
     "text": [
      "mutiplication of two numnber:  782\n"
     ]
    }
   ],
   "source": [
    "n1=int(input(\"enter the number 1\"))\n",
    "n2=int(input(\"enter the number 2\"))\n",
    "res=n1*n2 \n",
    "print(\"mutiplication of two numnber: \",res)\n"
   ]
  },
  {
   "cell_type": "code",
   "execution_count": 11,
   "id": "73781667-8c45-4f3e-8dbe-2842ae5ae394",
   "metadata": {},
   "outputs": [
    {
     "name": "stdin",
     "output_type": "stream",
     "text": [
      "enter the number 1 45\n",
      "enter the number 2 2\n"
     ]
    },
    {
     "name": "stdout",
     "output_type": "stream",
     "text": [
      "divsion  of two number:  22.5\n"
     ]
    }
   ],
   "source": [
    "n1=int(input(\"enter the number 1\"))\n",
    "n2=int(input(\"enter the number 2\"))\n",
    "res=n1/n2 \n",
    "print(\"divsion  of two number: \",res)\n"
   ]
  },
  {
   "cell_type": "code",
   "execution_count": 13,
   "id": "dc9db871-232c-45fa-8b7c-f15820eb2019",
   "metadata": {},
   "outputs": [
    {
     "name": "stdin",
     "output_type": "stream",
     "text": [
      "enter the number 1 56\n",
      "enter the number 2 6\n"
     ]
    },
    {
     "name": "stdout",
     "output_type": "stream",
     "text": [
      "perc of two number:  2\n"
     ]
    }
   ],
   "source": [
    "n1=int(input(\"enter the number 1\"))\n",
    "n2=int(input(\"enter the number 2\"))\n",
    "res=n1%n2 \n",
    "print(\"perc of two number: \",res)\n"
   ]
  },
  {
   "cell_type": "code",
   "execution_count": 15,
   "id": "76533b6f-3cf3-4248-b52e-e880a077436f",
   "metadata": {},
   "outputs": [
    {
     "name": "stdin",
     "output_type": "stream",
     "text": [
      "enter the number 1 33\n",
      "enter the number 2 45\n"
     ]
    },
    {
     "name": "stdout",
     "output_type": "stream",
     "text": [
      "Exponentiation of two number:  33\n"
     ]
    }
   ],
   "source": [
    "n1=int(input(\"enter the number 1\"))\n",
    "n2=int(input(\"enter the number 2\"))\n",
    "res=n1**n2 \n",
    "print(\"Exponentiation of two number: \",res)\n",
    "\t"
   ]
  },
  {
   "cell_type": "code",
   "execution_count": 17,
   "id": "bd50de02-1738-4837-9c09-6455c6207671",
   "metadata": {},
   "outputs": [
    {
     "name": "stdin",
     "output_type": "stream",
     "text": [
      "enter the number 1 45\n",
      "enter the number 2 45\n"
     ]
    },
    {
     "name": "stdout",
     "output_type": "stream",
     "text": [
      "Floor division of two number:  1\n"
     ]
    }
   ],
   "source": [
    "n1=int(input(\"enter the number 1\"))\n",
    "n2=int(input(\"enter the number 2\"))\n",
    "res=n1//n2 \n",
    "print(\"Floor division of two number: \",res)\n",
    "\t"
   ]
  },
  {
   "cell_type": "code",
   "execution_count": 19,
   "id": "12925f19-0807-4138-91cb-6968a4728bf4",
   "metadata": {},
   "outputs": [
    {
     "name": "stdin",
     "output_type": "stream",
     "text": [
      "enter the number 1 56\n",
      "enter the number 2 6\n"
     ]
    },
    {
     "name": "stdout",
     "output_type": "stream",
     "text": [
      " of two number:  True\n"
     ]
    }
   ],
   "source": [
    "n1=int(input(\"enter the number 1\"))\n",
    "n2=int(input(\"enter the number 2\"))\n",
    "res=n1>n2 \n",
    "print(\" of two number: \",res)\n",
    "\t"
   ]
  },
  {
   "cell_type": "code",
   "execution_count": 21,
   "id": "0ab88d69-ad88-412f-b9cc-9695526b8739",
   "metadata": {},
   "outputs": [
    {
     "name": "stdin",
     "output_type": "stream",
     "text": [
      "enter the number 1 56\n",
      "enter the number 2 6\n"
     ]
    },
    {
     "name": "stdout",
     "output_type": "stream",
     "text": [
      "Floor division of two number:  False\n"
     ]
    }
   ],
   "source": [
    "n1=int(input(\"enter the number 1\"))\n",
    "n2=int(input(\"enter the number 2\"))\n",
    "res=n1<n2 \n",
    "print(\"Floor division of two number: \",res)\n",
    "\t"
   ]
  },
  {
   "cell_type": "code",
   "execution_count": 27,
   "id": "fec384e5-bb56-4cd5-83ac-db30c4c641dc",
   "metadata": {},
   "outputs": [
    {
     "name": "stdin",
     "output_type": "stream",
     "text": [
      "enter the number 1 35\n",
      "enter the number 2 56\n"
     ]
    },
    {
     "name": "stdout",
     "output_type": "stream",
     "text": [
      " equl of two number:  False\n"
     ]
    }
   ],
   "source": [
    "n1=int(input(\"enter the number 1\"))\n",
    "n2=int(input(\"enter the number 2\"))\n",
    "res=n1==n2 \n",
    "print(\" equl of two number: \",res)\n",
    "\t"
   ]
  },
  {
   "cell_type": "code",
   "execution_count": 35,
   "id": "8b82d15c-6cb2-4b92-ab6f-3a309517f035",
   "metadata": {},
   "outputs": [
    {
     "name": "stdin",
     "output_type": "stream",
     "text": [
      "enter the value 5.4\n"
     ]
    },
    {
     "name": "stdout",
     "output_type": "stream",
     "text": [
      " area of square:  29.160000000000004\n"
     ]
    }
   ],
   "source": [
    "side=float(input(\"enter the value\"))\n",
    "Aos=side**2\n",
    "print(\" area of square: \",Aos)\n",
    "\t"
   ]
  },
  {
   "cell_type": "code",
   "execution_count": 37,
   "id": "6c2fa151-86af-4550-a2e9-93f6e1d448e0",
   "metadata": {},
   "outputs": [
    {
     "name": "stdin",
     "output_type": "stream",
     "text": [
      "enter the length 33.4\n",
      "enter the width 2.5\n"
     ]
    },
    {
     "name": "stdout",
     "output_type": "stream",
     "text": [
      " area of rectrangle  83.5\n"
     ]
    }
   ],
   "source": [
    "n1=float(input(\"enter the length\"))\n",
    "n2=float(input(\"enter the width\"))\n",
    "res=n1*n2\n",
    "print(\" area of rectrangle \",res)\n",
    "\t"
   ]
  },
  {
   "cell_type": "code",
   "execution_count": 39,
   "id": "5ddac8ae-5f22-436a-a362-ff79202b2d40",
   "metadata": {},
   "outputs": [
    {
     "name": "stdin",
     "output_type": "stream",
     "text": [
      "enter the base 56\n",
      "enter the hight 3\n"
     ]
    },
    {
     "name": "stdout",
     "output_type": "stream",
     "text": [
      " area of parallelogram  168.0\n"
     ]
    }
   ],
   "source": [
    "n1=float(input(\"enter the base\"))\n",
    "n2=float(input(\"enter the height\"))\n",
    "res=n1*n2\n",
    "print(\" area of parallelogram \",res)\n",
    "\t"
   ]
  },
  {
   "cell_type": "code",
   "execution_count": 45,
   "id": "f2bcb7a7-9210-422a-a9c5-eef52481b560",
   "metadata": {},
   "outputs": [
    {
     "name": "stdin",
     "output_type": "stream",
     "text": [
      "enter the base 5.5\n",
      "enter the height 2.2\n"
     ]
    },
    {
     "name": "stdout",
     "output_type": "stream",
     "text": [
      " area of triangle  6.050000000000001\n"
     ]
    }
   ],
   "source": [
    "n1=float(input(\"enter the base\"))\n",
    "n2=float(input(\"enter the height\"))\n",
    "res=0.5*n1*n2\n",
    "print(\" area of triangle \",res)\n",
    "\t"
   ]
  },
  {
   "cell_type": "code",
   "execution_count": 3,
   "id": "090a4f0c-5084-4da5-9d59-9bc23b6bd9fd",
   "metadata": {},
   "outputs": [
    {
     "name": "stdout",
     "output_type": "stream",
     "text": [
      "b greater\n",
      "in if\n"
     ]
    }
   ],
   "source": [
    "a=5 \n",
    "b=6\n",
    "if(a>b):\n",
    "    print(\"a greater\")\n",
    "    print(\"In if \")\n",
    "elif(b>a):\n",
    "    print(\"b greater\")\n",
    "    print(\"in if\")\n",
    "else:\n",
    "    print(\"both are same\")\n",
    "    print(\"hello\")\n",
    "  \n",
    "    \n",
    "    "
   ]
  },
  {
   "cell_type": "code",
   "execution_count": 5,
   "id": "0ddf3583-e593-4c3c-98b5-c82fca78fdf4",
   "metadata": {},
   "outputs": [
    {
     "name": "stdout",
     "output_type": "stream",
     "text": [
      "a greater\n",
      "In if \n"
     ]
    }
   ],
   "source": [
    " \n",
    "a=5 \n",
    "b=6\n",
    "if(b>a):\n",
    "    print(\"a greater\")\n",
    "    print(\"In if \")\n",
    "elif(a>b):\n",
    "    print(\"b greater\")\n",
    "    print(\"in if\")\n",
    "else:\n",
    "    print(\"both are same\")\n",
    "    print(\"hello\")\n",
    "  \n",
    "    \n",
    "    "
   ]
  },
  {
   "cell_type": "code",
   "execution_count": null,
   "id": "da6fe22c-f9eb-4a8e-8ff1-5b7b367a5098",
   "metadata": {},
   "outputs": [],
   "source": [
    "a"
   ]
  }
 ],
 "metadata": {
  "kernelspec": {
   "display_name": "Python 3 (ipykernel)",
   "language": "python",
   "name": "python3"
  },
  "language_info": {
   "codemirror_mode": {
    "name": "ipython",
    "version": 3
   },
   "file_extension": ".py",
   "mimetype": "text/x-python",
   "name": "python",
   "nbconvert_exporter": "python",
   "pygments_lexer": "ipython3",
   "version": "3.12.4"
  }
 },
 "nbformat": 4,
 "nbformat_minor": 5
}
